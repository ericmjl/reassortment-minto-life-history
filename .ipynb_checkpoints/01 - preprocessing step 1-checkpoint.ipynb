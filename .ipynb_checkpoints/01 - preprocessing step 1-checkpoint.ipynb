{
 "cells": [
  {
   "cell_type": "markdown",
   "metadata": {},
   "source": [
    "# Purpose\n",
    "\n",
    "Format the ird_seqs in the same way as the new_seqs data:\n",
    "\n",
    "- seq.id should be: `A/strain/name/here/2009|gene`"
   ]
  },
  {
   "cell_type": "code",
   "execution_count": 1,
   "metadata": {
    "collapsed": false
   },
   "outputs": [],
   "source": [
    "from Bio import SeqIO\n",
    "import pandas as pd\n",
    "import numpy as np\n",
    "from joblib import Parallel, delayed"
   ]
  },
  {
   "cell_type": "code",
   "execution_count": 2,
   "metadata": {
    "collapsed": false
   },
   "outputs": [
    {
     "data": {
      "text/plain": [
       "647"
      ]
     },
     "execution_count": 2,
     "metadata": {},
     "output_type": "execute_result"
    }
   ],
   "source": [
    "# Read in the new 79 sequences.\n",
    "new_seqs = [s for s in SeqIO.parse('Alaska_waterfowl_79viruses_seqs_20151223.fasta', 'fasta')]\n",
    "len(new_seqs)"
   ]
  },
  {
   "cell_type": "code",
   "execution_count": 3,
   "metadata": {
    "collapsed": false,
    "scrolled": true
   },
   "outputs": [
    {
     "data": {
      "text/plain": [
       "80.875"
      ]
     },
     "execution_count": 3,
     "metadata": {},
     "output_type": "execute_result"
    }
   ],
   "source": [
    "len(new_seqs) / 8"
   ]
  },
  {
   "cell_type": "code",
   "execution_count": 4,
   "metadata": {
    "collapsed": false
   },
   "outputs": [],
   "source": [
    "ird_data = pd.read_csv('20160104_brandt_ird.csv', na_filter=False, parse_dates=['Collection Date'])\n",
    "ird_data['Host Species'] = ird_data['Host Species'].str.split(':').str[1]\n",
    "ird_data['Strain Name'] = ird_data['Strain Name'].str.split('(').str[0]\n",
    "ird_data['Strain Name'] = ird_data['Strain Name'].str.replace('A/American black duck/Maine/44411/532/2008', 'A/American black duck/Maine/44411_532/2008') ## this is a manual data cleanup.\n",
    "ird_data['State/Province'] = ird_data['State/Province'].replace('Unknown', np.nan).replace('-N/A-', np.nan)\n",
    "ird_data['Sequence Accession'] = ird_data['Sequence Accession'].str.replace('*', '')"
   ]
  },
  {
   "cell_type": "code",
   "execution_count": 14,
   "metadata": {
    "collapsed": false
   },
   "outputs": [
    {
     "data": {
      "text/plain": [
       "689.0"
      ]
     },
     "execution_count": 14,
     "metadata": {},
     "output_type": "execute_result"
    }
   ],
   "source": [
    "len(ird_data[ird_data['State/Province'] == 'Alaska']) / 8"
   ]
  },
  {
   "cell_type": "code",
   "execution_count": 6,
   "metadata": {
    "collapsed": false
   },
   "outputs": [
    {
     "data": {
      "text/plain": [
       "Index(['Strain_name', 'Subtype', 'Blinded Number',\n",
       "       'Organism Name provided by collaborator',\n",
       "       'Updated Organism Name (names that changed are in blue)',\n",
       "       'Special Note_JCVIs', 'Complete/Draft', 'CEIRS Sample ID', 'UPDATED?',\n",
       "       'Age', 'Age_Brandt', 'Age_final', 'Sex', 'Species', 'SPECIES_CORRECT',\n",
       "       'Species_final', 'Band#', 'Webtag#', 'BroodID', 'NestID',\n",
       "       'CollectionDate', 'Latitude', 'Longitude', 'SampleType', 'Unnamed: 24',\n",
       "       'Unnamed: 25', 'Unnamed: 26', 'Unnamed: 27', 'Unnamed: 28',\n",
       "       'Unnamed: 29', 'Unnamed: 30', 'Unnamed: 31', 'Unnamed: 32',\n",
       "       'Unnamed: 33', 'Unnamed: 34', 'Unnamed: 35'],\n",
       "      dtype='object')"
      ]
     },
     "execution_count": 6,
     "metadata": {},
     "output_type": "execute_result"
    }
   ],
   "source": [
    "new_data = pd.read_csv('Alaska_waterfowl_79viruses_metadata_20151223.csv')\n",
    "new_data.columns"
   ]
  },
  {
   "cell_type": "code",
   "execution_count": 7,
   "metadata": {
    "collapsed": true
   },
   "outputs": [],
   "source": [
    "segnum_name = dict()\n",
    "segnum_name[1] = 'PB2'\n",
    "segnum_name[2] = 'PB1'\n",
    "segnum_name[3] = 'PA'\n",
    "segnum_name[4] = 'HA'\n",
    "segnum_name[5] = 'NP'\n",
    "segnum_name[6] = 'NA'\n",
    "segnum_name[7] = 'M'\n",
    "segnum_name[8] = 'NS'"
   ]
  },
  {
   "cell_type": "code",
   "execution_count": 15,
   "metadata": {
    "collapsed": false
   },
   "outputs": [
    {
     "name": "stdout",
     "output_type": "stream",
     "text": [
      "2733.5\n"
     ]
    }
   ],
   "source": [
    "ird_seqs = [s for s in SeqIO.parse('20160104_brandt_ird.fasta', 'fasta')]\n",
    "\n",
    "def change_id_name(s, ird_data, segnum_name):\n",
    "    \"\"\"\n",
    "    s: a BioPython seqrecord\n",
    "    ird_data: the data downloaded from the IRD\n",
    "    \"\"\"\n",
    "# for s in ird_seqs:\n",
    "    try:\n",
    "        row = ird_data.loc[ird_data['Sequence Accession'] == s.id]\n",
    "        idx = row.index[0]\n",
    "        strain_name = row['Strain Name'][idx]\n",
    "        gene_name = segnum_name[row['Segment'][idx]]\n",
    "        s.id = str(strain_name) + '|' + str(gene_name)\n",
    "        s.id = s.id.replace(' ', '_')\n",
    "    except:\n",
    "        print(s)\n",
    "    return s \n",
    "\n",
    "results = Parallel(n_jobs=-1)(delayed(change_id_name)(s, ird_data, segnum_name) for s in ird_seqs)\n",
    "print(len(results) / 8)"
   ]
  },
  {
   "cell_type": "code",
   "execution_count": 16,
   "metadata": {
    "collapsed": false
   },
   "outputs": [
    {
     "data": {
      "text/plain": [
       "21868"
      ]
     },
     "execution_count": 16,
     "metadata": {},
     "output_type": "execute_result"
    }
   ],
   "source": [
    "# Combine the FASTA files together into one unfiltered FASTA file.\n",
    "SeqIO.write(results, 'ird_seqs_name_as_accession.fasta', 'fasta')"
   ]
  },
  {
   "cell_type": "code",
   "execution_count": null,
   "metadata": {
    "collapsed": true
   },
   "outputs": [],
   "source": []
  },
  {
   "cell_type": "code",
   "execution_count": null,
   "metadata": {
    "collapsed": true
   },
   "outputs": [],
   "source": []
  }
 ],
 "metadata": {
  "kernelspec": {
   "display_name": "Python 3",
   "language": "python",
   "name": "python3"
  },
  "language_info": {
   "codemirror_mode": {
    "name": "ipython",
    "version": 3
   },
   "file_extension": ".py",
   "mimetype": "text/x-python",
   "name": "python",
   "nbconvert_exporter": "python",
   "pygments_lexer": "ipython3",
   "version": "3.4.4"
  }
 },
 "nbformat": 4,
 "nbformat_minor": 0
}
